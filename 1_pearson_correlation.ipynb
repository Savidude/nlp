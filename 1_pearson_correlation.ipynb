{
 "cells": [
  {
   "cell_type": "code",
   "execution_count": 1,
   "id": "7408f76a",
   "metadata": {},
   "outputs": [],
   "source": [
    "import pandas as pd\n",
    "from scipy.stats import pearsonr"
   ]
  },
  {
   "cell_type": "code",
   "execution_count": 2,
   "id": "f288cb1b",
   "metadata": {},
   "outputs": [],
   "source": [
    "def calculate_pearson_correlation(reviews):\n",
    "    liked = reviews['Liked']\n",
    "    category = reviews['Category']\n",
    "    \n",
    "    corr, _ = pearsonr(liked, category)\n",
    "    return corr"
   ]
  },
  {
   "cell_type": "markdown",
   "id": "e3b63216",
   "metadata": {},
   "source": [
    "Calculating pearson correlation with Textblob classified reviews"
   ]
  },
  {
   "cell_type": "code",
   "execution_count": 3,
   "id": "636801b8",
   "metadata": {},
   "outputs": [
    {
     "data": {
      "text/plain": [
       "0.2744333850502691"
      ]
     },
     "execution_count": 3,
     "metadata": {},
     "output_type": "execute_result"
    }
   ],
   "source": [
    "reviews = pd.read_csv(\"data/derived/restaurant_reviews_textblob.csv\", sep=\"\\t\")\n",
    "textblob_correlation = calculate_pearson_correlation(reviews)\n",
    "textblob_correlation"
   ]
  },
  {
   "cell_type": "markdown",
   "id": "aa0696f1",
   "metadata": {},
   "source": [
    "Calculating pearson correlation with Sentistrength classified reviews"
   ]
  },
  {
   "cell_type": "code",
   "execution_count": 4,
   "id": "491900b6",
   "metadata": {},
   "outputs": [
    {
     "data": {
      "text/plain": [
       "0.44666468062732056"
      ]
     },
     "execution_count": 4,
     "metadata": {},
     "output_type": "execute_result"
    }
   ],
   "source": [
    "reviews = pd.read_csv(\"data/derived/restaurant_reviews_sentistrength.csv\", sep=\"\\t\")\n",
    "sentistrength_correlation = calculate_pearson_correlation(reviews)\n",
    "sentistrength_correlation"
   ]
  }
 ],
 "metadata": {
  "kernelspec": {
   "display_name": "Python 3 (ipykernel)",
   "language": "python",
   "name": "python3"
  },
  "language_info": {
   "codemirror_mode": {
    "name": "ipython",
    "version": 3
   },
   "file_extension": ".py",
   "mimetype": "text/x-python",
   "name": "python",
   "nbconvert_exporter": "python",
   "pygments_lexer": "ipython3",
   "version": "3.8.13"
  }
 },
 "nbformat": 4,
 "nbformat_minor": 5
}
