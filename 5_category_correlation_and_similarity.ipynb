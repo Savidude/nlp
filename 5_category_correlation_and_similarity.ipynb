{
 "cells": [
  {
   "cell_type": "code",
   "execution_count": 1,
   "id": "d401faa7",
   "metadata": {},
   "outputs": [],
   "source": [
    "import pandas as pd\n",
    "from nltk.stem import WordNetLemmatizer\n",
    "\n",
    "from scipy.stats import pearsonr\n",
    "from numpy.linalg import norm\n",
    "import numpy as np\n",
    "\n",
    "stemmer = WordNetLemmatizer()"
   ]
  },
  {
   "cell_type": "code",
   "execution_count": 2,
   "id": "2e9e9063",
   "metadata": {},
   "outputs": [],
   "source": [
    "def stem_list(words):\n",
    "    stemmed_words = []\n",
    "    for word in words:\n",
    "        word = word.lower()\n",
    "        stemmed_words.append(stemmer.lemmatize(word))\n",
    "    return stemmed_words"
   ]
  },
  {
   "cell_type": "code",
   "execution_count": 3,
   "id": "e513f4f9",
   "metadata": {},
   "outputs": [],
   "source": [
    "def get_stemmed_document(document):\n",
    "    tokens = document.split()\n",
    "    stemmed_words = stem_list(tokens)\n",
    "    return stemmed_words"
   ]
  },
  {
   "cell_type": "code",
   "execution_count": 4,
   "id": "2998b0ed",
   "metadata": {},
   "outputs": [],
   "source": [
    "def calculate_pearson_correlation(annotations, category_vector):    \n",
    "    corr, _ = pearsonr(annotations, category_vector)\n",
    "    return corr"
   ]
  },
  {
   "cell_type": "code",
   "execution_count": 5,
   "id": "a7d018ab",
   "metadata": {},
   "outputs": [],
   "source": [
    "def calculate_cosine_similarity(annotations, category_vector):\n",
    "    cosine = np.dot(annotations, category_vector) / (norm(annotations) * norm(category_vector))\n",
    "    return cosine"
   ]
  },
  {
   "cell_type": "code",
   "execution_count": 6,
   "id": "a5059b2c",
   "metadata": {},
   "outputs": [],
   "source": [
    "price_keywords = ['price', 'cost', 'money', 'overpriced', 'cheap', 'cash', 'inexpensive', 'deal', 'value']\n",
    "quality_keywords = ['taste', 'fresh', 'yum', 'amazing', 'beautiful', 'good', 'terrible', 'bad', 'disgust', 'generic', \n",
    "                    'tasty', 'refreshing', 'delicious', 'meh', 'appalling', 'bland', 'subpar', 'quality']\n",
    "quantity_keywords = ['combo', 'portion', 'big', 'small', 'quantity', 'amount', 'number', 'total', 'size']\n",
    "location_keywords = ['place', 'city' 'visit', 'view', 'town', 'vegas', 'location', 'spot', 'area', 'neighborhood']"
   ]
  },
  {
   "cell_type": "code",
   "execution_count": 7,
   "id": "424a14ea",
   "metadata": {},
   "outputs": [],
   "source": [
    "price_keywords = stem_list(price_keywords)\n",
    "quality_keywords = stem_list(quality_keywords)\n",
    "quantity_keywords = stem_list(quantity_keywords)\n",
    "location_keywords = stem_list(location_keywords)"
   ]
  },
  {
   "cell_type": "code",
   "execution_count": 8,
   "id": "8c918a73",
   "metadata": {},
   "outputs": [],
   "source": [
    "def generate_category_vector(reviews):\n",
    "    price_vector = []\n",
    "    quality_vector = []\n",
    "    quantity_vector = []\n",
    "    location_vector = []\n",
    "    \n",
    "    for review in reviews['Review']:\n",
    "        stemmed_review = get_stemmed_document(review)\n",
    "\n",
    "        if any(word in price_keywords for word in stemmed_review):\n",
    "            price_vector.append(1)\n",
    "        else:\n",
    "            price_vector.append(0)\n",
    "\n",
    "        if any(word in quality_keywords for word in stemmed_review):\n",
    "            quality_vector.append(1)\n",
    "        else:\n",
    "            quality_vector.append(0)\n",
    "\n",
    "        if any(word in quantity_keywords for word in stemmed_review):\n",
    "            quantity_vector.append(1)\n",
    "        else:\n",
    "            quantity_vector.append(0)\n",
    "\n",
    "        if any(word in location_keywords for word in stemmed_review):\n",
    "            location_vector.append(1)\n",
    "        else:\n",
    "            location_vector.append(0)\n",
    "            \n",
    "    reviews['Price'] = price_vector\n",
    "    reviews['Quality'] = quality_vector\n",
    "    reviews['Quantity'] = quantity_vector\n",
    "    reviews['Location'] = location_vector\n",
    "    return reviews"
   ]
  },
  {
   "cell_type": "code",
   "execution_count": 9,
   "id": "02526e9c",
   "metadata": {},
   "outputs": [],
   "source": [
    "def print_similarity_values(target_vector, annotations, reviews):\n",
    "    print(\"Pearson correlation between \" + target_vector +\" and price: \", \n",
    "          calculate_pearson_correlation(annotations, reviews['Price']))\n",
    "    print(\"Pearson correlation between \" + target_vector +\" and quality: \", \n",
    "          calculate_pearson_correlation(annotations, reviews['Quality']))\n",
    "    print(\"Pearson correlation between \" + target_vector +\" and quantity: \", \n",
    "          calculate_pearson_correlation(annotations, reviews['Quantity']))\n",
    "    print(\"Pearson correlation between \" + target_vector +\" and location: \", \n",
    "          calculate_pearson_correlation(annotations, reviews['Location']))\n",
    "    print()\n",
    "    \n",
    "    print(\"Cosine similarity between \" + target_vector + \" and price: \", \n",
    "          calculate_cosine_similarity(annotations, reviews['Price']))\n",
    "    print(\"Cosine similarity between \" + target_vector + \" and quality: \", \n",
    "          calculate_cosine_similarity(annotations, reviews['Quality']))\n",
    "    print(\"Cosine similarity between \" + target_vector + \" and quantity: \", \n",
    "          calculate_cosine_similarity(annotations, reviews['Quantity']))\n",
    "    print(\"Cosine similarity between \" + target_vector + \" and location: \", \n",
    "          calculate_cosine_similarity(annotations, reviews['Location']))"
   ]
  },
  {
   "cell_type": "markdown",
   "id": "e251a233",
   "metadata": {},
   "source": [
    "Obtaining similarity values between the labelled sentiment and the category vectors"
   ]
  },
  {
   "cell_type": "code",
   "execution_count": 10,
   "id": "54c3a406",
   "metadata": {},
   "outputs": [],
   "source": [
    "reviews = pd.read_csv(\"data/Restaurant_Reviews.tsv\", sep=\"\\t\")\n",
    "reviews_category_vectors = generate_category_vector(reviews)"
   ]
  },
  {
   "cell_type": "code",
   "execution_count": 11,
   "id": "18810ba7",
   "metadata": {},
   "outputs": [
    {
     "name": "stdout",
     "output_type": "stream",
     "text": [
      "Pearson correlation between labelled sentiment and price:  -0.050271730430030276\n",
      "Pearson correlation between labelled sentiment and quality:  0.08920515501750784\n",
      "Pearson correlation between labelled sentiment and quantity:  8.61940727125976e-18\n",
      "Pearson correlation between labelled sentiment and location:  0.023437864934919773\n",
      "\n",
      "Cosine similarity between labelled sentiment and price:  0.07893522173763264\n",
      "Cosine similarity between labelled sentiment and quality:  0.31378581622109447\n",
      "Cosine similarity between labelled sentiment and quantity:  0.10954451150103323\n",
      "Cosine similarity between labelled sentiment and location:  0.23821728473701217\n"
     ]
    }
   ],
   "source": [
    "print_similarity_values('labelled sentiment', reviews_category_vectors['Liked'], reviews_category_vectors)"
   ]
  },
  {
   "cell_type": "markdown",
   "id": "1efe25e2",
   "metadata": {},
   "source": [
    "Obtaining similarity values between the Textblob classification and the category vectors"
   ]
  },
  {
   "cell_type": "code",
   "execution_count": 12,
   "id": "0c791e9a",
   "metadata": {},
   "outputs": [
    {
     "name": "stdout",
     "output_type": "stream",
     "text": [
      "Pearson correlation between textblob classification and price:  -0.05443291387738019\n",
      "Pearson correlation between textblob classification and quality:  0.02460358379651839\n",
      "Pearson correlation between textblob classification and quantity:  -0.012834877271702712\n",
      "Pearson correlation between textblob classification and location:  0.0022315562124795114\n",
      "\n",
      "Cosine similarity between textblob classification and price:  0.09428672450603165\n",
      "Cosine similarity between textblob classification and quality:  0.29867799427598285\n",
      "Cosine similarity between textblob classification and quantity:  0.11449285668638783\n",
      "Cosine similarity between textblob classification and location:  0.24964913686647244\n"
     ]
    }
   ],
   "source": [
    "reviews = pd.read_csv(\"data/derived/restaurant_reviews_textblob.csv\", sep=\"\\t\")\n",
    "reviews_category_vectors = generate_category_vector(reviews)\n",
    "print_similarity_values('textblob classification', reviews_category_vectors['Category'], reviews_category_vectors)"
   ]
  },
  {
   "cell_type": "markdown",
   "id": "a0d703e4",
   "metadata": {},
   "source": [
    "Obtaining similarity values between the Sentistrength classification and the category vectors"
   ]
  },
  {
   "cell_type": "code",
   "execution_count": 13,
   "id": "1f9caada",
   "metadata": {},
   "outputs": [
    {
     "name": "stdout",
     "output_type": "stream",
     "text": [
      "Pearson correlation between sentistrength classification and price:  0.003543813582588844\n",
      "Pearson correlation between sentistrength classification and quality:  0.023224245660805283\n",
      "Pearson correlation between sentistrength classification and quantity:  0.013434616188100964\n",
      "Pearson correlation between sentistrength classification and location:  0.05764142831457746\n",
      "\n",
      "Cosine similarity between sentistrength classification and price:  0.14569989241669287\n",
      "Cosine similarity between sentistrength classification and quality:  0.3320004802106672\n",
      "Cosine similarity between sentistrength classification and quantity:  0.1444278629379538\n",
      "Cosine similarity between sentistrength classification and location:  0.30577886499345286\n"
     ]
    }
   ],
   "source": [
    "reviews = pd.read_csv(\"data/derived/restaurant_reviews_sentistrength.csv\", sep=\"\\t\")\n",
    "reviews_category_vectors = generate_category_vector(reviews)\n",
    "print_similarity_values('sentistrength classification', reviews_category_vectors['Category'], reviews_category_vectors)"
   ]
  }
 ],
 "metadata": {
  "kernelspec": {
   "display_name": "Python 3 (ipykernel)",
   "language": "python",
   "name": "python3"
  },
  "language_info": {
   "codemirror_mode": {
    "name": "ipython",
    "version": 3
   },
   "file_extension": ".py",
   "mimetype": "text/x-python",
   "name": "python",
   "nbconvert_exporter": "python",
   "pygments_lexer": "ipython3",
   "version": "3.8.13"
  }
 },
 "nbformat": 4,
 "nbformat_minor": 5
}
