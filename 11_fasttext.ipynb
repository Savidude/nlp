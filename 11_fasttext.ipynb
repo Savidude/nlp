{
 "cells": [
  {
   "cell_type": "code",
   "execution_count": 1,
   "id": "7d195c36",
   "metadata": {},
   "outputs": [],
   "source": [
    "import re\n",
    "\n",
    "import pandas as pd\n",
    "\n",
    "import nltk\n",
    "from nltk.tokenize import word_tokenize\n",
    "from nltk.corpus import stopwords\n",
    "\n",
    "from nltk.stem import WordNetLemmatizer\n",
    "stemmer = WordNetLemmatizer()\n",
    "\n",
    "from sklearn.model_selection import train_test_split\n",
    "from sklearn.ensemble import RandomForestClassifier\n",
    "from sklearn import metrics\n",
    "from sklearn.metrics import confusion_matrix\n",
    "from sklearn.metrics import classification_report"
   ]
  },
  {
   "cell_type": "code",
   "execution_count": 2,
   "id": "4f74df59",
   "metadata": {},
   "outputs": [],
   "source": [
    "stop_words = set(stopwords.words('english'))\n",
    "ignored_stopwords = ['not', 'down', 'before', 'over', 'more', 'off']\n",
    "for word in ignored_stopwords:\n",
    "    stop_words.remove(word)"
   ]
  },
  {
   "cell_type": "code",
   "execution_count": 3,
   "id": "4927962c",
   "metadata": {},
   "outputs": [
    {
     "name": "stderr",
     "output_type": "stream",
     "text": [
      "[nltk_data] Downloading package wordnet to /home/savidude/nltk_data...\n",
      "[nltk_data]   Package wordnet is already up-to-date!\n",
      "[nltk_data] Downloading package omw-1.4 to /home/savidude/nltk_data...\n",
      "[nltk_data]   Package omw-1.4 is already up-to-date!\n"
     ]
    },
    {
     "data": {
      "text/plain": [
       "True"
      ]
     },
     "execution_count": 3,
     "metadata": {},
     "output_type": "execute_result"
    }
   ],
   "source": [
    "from gensim.models.fasttext import FastText\n",
    "nltk.download('wordnet')\n",
    "nltk.download('omw-1.4')"
   ]
  },
  {
   "cell_type": "code",
   "execution_count": 4,
   "id": "22eed350",
   "metadata": {},
   "outputs": [],
   "source": [
    "def process_text(document):\n",
    "    # Remove extra white space from text\n",
    "    document = re.sub(r'\\s+', ' ', document, flags=re.I)\n",
    "    # Remove all the special characters from text\n",
    "    document = re.sub(r'\\W', ' ', str(document))\n",
    "    # Remove all single characters from text\n",
    "    document = re.sub(r'\\s+[a-zA-Z]\\s+', ' ', document)\n",
    "    # Converting to Lowercase\n",
    "    document = document.lower()\n",
    "    # Word tokenization\n",
    "    tokens = document.split()\n",
    "    # Lemmatization using NLTK\n",
    "    lemma_txt = [stemmer.lemmatize(word) for word in tokens]\n",
    "    # Remove stop words\n",
    "    lemma_no_stop_txt = [word for word in lemma_txt if word not in stop_words]\n",
    "    # Drop words\n",
    "    tokens = [word for word in tokens if len(word) > 3]\n",
    "    clean_txt = ' '.join(lemma_no_stop_txt)\n",
    "    return clean_txt"
   ]
  },
  {
   "cell_type": "code",
   "execution_count": 5,
   "id": "6144c7e6",
   "metadata": {},
   "outputs": [],
   "source": [
    "reviews = pd.read_csv(\"data/derived/restaurant_reviews_textblob.csv\", sep=\"\\t\")"
   ]
  },
  {
   "cell_type": "code",
   "execution_count": 6,
   "id": "93226cad",
   "metadata": {},
   "outputs": [],
   "source": [
    "corpus = []\n",
    "for i, review in reviews.iterrows():\n",
    "    corpus.append(review['Review'])\n",
    "\n",
    "clean_corpus = [process_text(sentence) for sentence in corpus if sentence.strip() != '']"
   ]
  },
  {
   "cell_type": "code",
   "execution_count": 7,
   "id": "3c2bf613",
   "metadata": {},
   "outputs": [],
   "source": [
    "word_tokenizer = nltk.WordPunctTokenizer()\n",
    "word_tokens = [word_tokenizer.tokenize(sent) for sent in clean_corpus]"
   ]
  },
  {
   "cell_type": "code",
   "execution_count": 8,
   "id": "6f9e9f34",
   "metadata": {},
   "outputs": [],
   "source": [
    "embedding_size = 300\n",
    "window_size = 5\n",
    "min_word = 5\n",
    "down_sampling = 1e-2\n",
    "\n",
    "fast_Text_model = FastText(word_tokens,\n",
    "                           # size=embedding_size,\n",
    "                           window=window_size,\n",
    "                           min_count=min_word,\n",
    "                           sample=down_sampling,\n",
    "                           workers=4,\n",
    "                           sg=1)"
   ]
  },
  {
   "cell_type": "code",
   "execution_count": 9,
   "id": "742d69f5",
   "metadata": {},
   "outputs": [
    {
     "data": {
      "text/plain": [
       "array([-0.00352345, -0.01155018,  0.1105684 ,  0.00524501,  0.1549084 ,\n",
       "        0.1522243 ,  0.07765193,  0.50587225, -0.02388257,  0.00738788,\n",
       "       -0.05970728,  0.06126837, -0.1832731 ,  0.25148442,  0.13091254,\n",
       "       -0.11334187,  0.07216428,  0.01202735, -0.18291245, -0.13479486,\n",
       "       -0.07008764,  0.17648198, -0.02151688, -0.19936295,  0.02323141,\n",
       "       -0.02389483,  0.02976048, -0.00090806, -0.04175892, -0.04774924,\n",
       "       -0.20081669, -0.17050715,  0.25315836, -0.2965657 , -0.10143424,\n",
       "        0.3213642 ,  0.09857495,  0.10359335,  0.05491275,  0.06558191,\n",
       "       -0.10708011, -0.12474342,  0.08852992, -0.18807893, -0.21038273,\n",
       "        0.08212434, -0.1212093 ,  0.14439829, -0.15580836,  0.23318994,\n",
       "        0.07215071,  0.00200366, -0.03794201,  0.01790297,  0.04651084,\n",
       "       -0.26052296, -0.01485161,  0.0535107 , -0.03502288,  0.17661868,\n",
       "        0.0824657 , -0.1165853 , -0.19256638,  0.2263536 ,  0.12352968,\n",
       "        0.16075869,  0.01123236,  0.03594051,  0.06896784,  0.08558095,\n",
       "       -0.15752675,  0.21912488, -0.03771013, -0.1796893 , -0.05111905,\n",
       "        0.08539213,  0.0811245 , -0.04277525, -0.29482946,  0.01212912,\n",
       "       -0.12943098, -0.09586718, -0.00193673, -0.15339163, -0.11136428,\n",
       "       -0.00773135, -0.2508625 , -0.06278582,  0.11394513,  0.04405268,\n",
       "       -0.31323844, -0.2309476 ,  0.07508794,  0.20806399,  0.08211483,\n",
       "        0.05000455, -0.03958307, -0.03493211,  0.01272042,  0.23446703],\n",
       "      dtype=float32)"
      ]
     },
     "execution_count": 9,
     "metadata": {},
     "output_type": "execute_result"
    }
   ],
   "source": [
    "fast_Text_model.wv['chicken']"
   ]
  },
  {
   "cell_type": "code",
   "execution_count": 10,
   "id": "529951ec",
   "metadata": {},
   "outputs": [
    {
     "data": {
      "text/plain": [
       "(100,)"
      ]
     },
     "execution_count": 10,
     "metadata": {},
     "output_type": "execute_result"
    }
   ],
   "source": [
    "fast_Text_model.wv['chicken'].shape"
   ]
  },
  {
   "cell_type": "markdown",
   "id": "610e7c68",
   "metadata": {},
   "source": [
    "create an empty dataframe to save vectors for each sentences"
   ]
  },
  {
   "cell_type": "code",
   "execution_count": 11,
   "id": "ac9ef03c",
   "metadata": {},
   "outputs": [
    {
     "name": "stderr",
     "output_type": "stream",
     "text": [
      "/tmp/ipykernel_5985/238144177.py:10: FutureWarning: The frame.append method is deprecated and will be removed from pandas in a future version. Use pandas.concat instead.\n",
      "  temp = temp.append(pd.Series(embedding), ignore_index = True)\n",
      "/tmp/ipykernel_5985/238144177.py:14: FutureWarning: The frame.append method is deprecated and will be removed from pandas in a future version. Use pandas.concat instead.\n",
      "  word_vectors = word_vectors.append(temp.mean(), ignore_index = True)\n"
     ]
    },
    {
     "data": {
      "text/plain": [
       "(1000, 100)"
      ]
     },
     "execution_count": 11,
     "metadata": {},
     "output_type": "execute_result"
    }
   ],
   "source": [
    "word_vectors = pd.DataFrame()\n",
    "for doc in pd.Series(clean_corpus):\n",
    "    # create another empty dataframe to save vector values for each word\n",
    "    temp = pd.DataFrame()\n",
    "    # looping through each word of a single document and spliting through space\n",
    "    for word in doc.split(' '):\n",
    "        if word not in stop_words:\n",
    "            try:\n",
    "                embedding = fast_Text_model.wv[word]\n",
    "                temp = temp.append(pd.Series(embedding), ignore_index = True)\n",
    "            except:\n",
    "                pass\n",
    "            \n",
    "    word_vectors = word_vectors.append(temp.mean(), ignore_index = True) \n",
    "    \n",
    "word_vectors.shape"
   ]
  },
  {
   "cell_type": "code",
   "execution_count": 12,
   "id": "0326ed2c",
   "metadata": {},
   "outputs": [
    {
     "data": {
      "text/plain": [
       "((700, 100), (700,), (300, 100), (300,))"
      ]
     },
     "execution_count": 12,
     "metadata": {},
     "output_type": "execute_result"
    }
   ],
   "source": [
    "train_x, test_x, train_y, test_y = train_test_split(word_vectors,\n",
    "                                                   reviews['Liked'],\n",
    "                                                   test_size = 0.3,\n",
    "                                                   random_state = 1)\n",
    "train_x.shape, train_y.shape, test_x.shape, test_y.shape"
   ]
  },
  {
   "cell_type": "code",
   "execution_count": 14,
   "id": "8dd430ef",
   "metadata": {},
   "outputs": [],
   "source": [
    "rf = RandomForestClassifier(n_estimators = 50, criterion = 'entropy', max_depth=50)\n",
    "model = rf.fit(train_x, train_y)\n",
    "y_pred = model.predict(test_x)"
   ]
  },
  {
   "cell_type": "code",
   "execution_count": 15,
   "id": "b1db28ba",
   "metadata": {},
   "outputs": [
    {
     "data": {
      "text/plain": [
       "array([[88, 54],\n",
       "       [73, 85]])"
      ]
     },
     "execution_count": 15,
     "metadata": {},
     "output_type": "execute_result"
    }
   ],
   "source": [
    "cm = confusion_matrix(y_pred, test_y)\n",
    "cm"
   ]
  },
  {
   "cell_type": "code",
   "execution_count": 16,
   "id": "1ca305fb",
   "metadata": {},
   "outputs": [
    {
     "data": {
      "text/plain": [
       "<sklearn.metrics._plot.confusion_matrix.ConfusionMatrixDisplay at 0x7f55621f7820>"
      ]
     },
     "execution_count": 16,
     "metadata": {},
     "output_type": "execute_result"
    },
    {
     "data": {
      "image/png": "[encoded data removed]",
      "text/plain": [
       "<Figure size 640x480 with 2 Axes>"
      ]
     },
     "metadata": {},
     "output_type": "display_data"
    }
   ],
   "source": [
    "cm_display = metrics.ConfusionMatrixDisplay(confusion_matrix = cm, display_labels = [False, True])\n",
    "cm_display.plot()"
   ]
  },
  {
   "cell_type": "code",
   "execution_count": 17,
   "id": "a7d8e823",
   "metadata": {},
   "outputs": [
    {
     "data": {
      "text/html": [
       "<div>\n",
       "<style scoped>\n",
       "    .dataframe tbody tr th:only-of-type {\n",
       "        vertical-align: middle;\n",
       "    }\n",
       "\n",
       "    .dataframe tbody tr th {\n",
       "        vertical-align: top;\n",
       "    }\n",
       "\n",
       "    .dataframe thead th {\n",
       "        text-align: right;\n",
       "    }\n",
       "</style>\n",
       "<table border=\"1\" class=\"dataframe\">\n",
       "  <thead>\n",
       "    <tr style=\"text-align: right;\">\n",
       "      <th></th>\n",
       "      <th>precision</th>\n",
       "      <th>recall</th>\n",
       "      <th>f1-score</th>\n",
       "      <th>support</th>\n",
       "    </tr>\n",
       "  </thead>\n",
       "  <tbody>\n",
       "    <tr>\n",
       "      <th>0</th>\n",
       "      <td>0.619718</td>\n",
       "      <td>0.546584</td>\n",
       "      <td>0.580858</td>\n",
       "      <td>161.000000</td>\n",
       "    </tr>\n",
       "    <tr>\n",
       "      <th>1</th>\n",
       "      <td>0.537975</td>\n",
       "      <td>0.611511</td>\n",
       "      <td>0.572391</td>\n",
       "      <td>139.000000</td>\n",
       "    </tr>\n",
       "    <tr>\n",
       "      <th>accuracy</th>\n",
       "      <td>0.576667</td>\n",
       "      <td>0.576667</td>\n",
       "      <td>0.576667</td>\n",
       "      <td>0.576667</td>\n",
       "    </tr>\n",
       "    <tr>\n",
       "      <th>macro avg</th>\n",
       "      <td>0.578846</td>\n",
       "      <td>0.579047</td>\n",
       "      <td>0.576624</td>\n",
       "      <td>300.000000</td>\n",
       "    </tr>\n",
       "    <tr>\n",
       "      <th>weighted avg</th>\n",
       "      <td>0.581844</td>\n",
       "      <td>0.576667</td>\n",
       "      <td>0.576935</td>\n",
       "      <td>300.000000</td>\n",
       "    </tr>\n",
       "  </tbody>\n",
       "</table>\n",
       "</div>"
      ],
      "text/plain": [
       "              precision    recall  f1-score     support\n",
       "0              0.619718  0.546584  0.580858  161.000000\n",
       "1              0.537975  0.611511  0.572391  139.000000\n",
       "accuracy       0.576667  0.576667  0.576667    0.576667\n",
       "macro avg      0.578846  0.579047  0.576624  300.000000\n",
       "weighted avg   0.581844  0.576667  0.576935  300.000000"
      ]
     },
     "execution_count": 17,
     "metadata": {},
     "output_type": "execute_result"
    }
   ],
   "source": [
    "pd.DataFrame(classification_report(test_y, y_pred, output_dict=True)).T "
   ]
  }
 ],
 "metadata": {
  "kernelspec": {
   "display_name": "Python 3 (ipykernel)",
   "language": "python",
   "name": "python3"
  },
  "language_info": {
   "codemirror_mode": {
    "name": "ipython",
    "version": 3
   },
   "file_extension": ".py",
   "mimetype": "text/x-python",
   "name": "python",
   "nbconvert_exporter": "python",
   "pygments_lexer": "ipython3",
   "version": "3.8.13"
  }
 },
 "nbformat": 4,
 "nbformat_minor": 5
}
