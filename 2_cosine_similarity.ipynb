{
 "cells": [
  {
   "cell_type": "code",
   "execution_count": 16,
   "id": "3220555b",
   "metadata": {},
   "outputs": [],
   "source": [
    "import numpy as np\n",
    "from numpy.linalg import norm\n",
    "import pandas as pd"
   ]
  },
  {
   "cell_type": "code",
   "execution_count": 17,
   "id": "b2bc32f6",
   "metadata": {},
   "outputs": [],
   "source": [
    "def calculate_cosine_similarity(liked, category):\n",
    "    cosine = np.dot(liked, category) / (norm(liked) * norm(category))\n",
    "    return cosine"
   ]
  },
  {
   "cell_type": "markdown",
   "id": "f177c650",
   "metadata": {},
   "source": [
    "Caclulating cosine similarity with textblob classified reviews"
   ]
  },
  {
   "cell_type": "code",
   "execution_count": 32,
   "id": "b9876c13",
   "metadata": {},
   "outputs": [],
   "source": [
    "reviews = pd.read_csv(\"data/derived/restaurant_reviews_textblob.csv\", sep=\"\\t\")"
   ]
  },
  {
   "cell_type": "code",
   "execution_count": 33,
   "id": "a68f8e92",
   "metadata": {},
   "outputs": [],
   "source": [
    "liked, category = reviews['Liked'], reviews['Category']"
   ]
  },
  {
   "cell_type": "code",
   "execution_count": 34,
   "id": "4e9cf093",
   "metadata": {},
   "outputs": [
    {
     "data": {
      "text/plain": [
       "0.6772714590276805"
      ]
     },
     "execution_count": 34,
     "metadata": {},
     "output_type": "execute_result"
    }
   ],
   "source": [
    "similarity = calculate_cosine_similarity(liked, category)\n",
    "similarity"
   ]
  },
  {
   "cell_type": "code",
   "execution_count": 36,
   "id": "c7244849",
   "metadata": {},
   "outputs": [
    {
     "data": {
      "text/plain": [
       "0.8694826047713663"
      ]
     },
     "execution_count": 36,
     "metadata": {},
     "output_type": "execute_result"
    }
   ],
   "source": [
    "positive_reviews = reviews.loc[reviews['Liked'] == 1]\n",
    "liked = positive_reviews['Liked']\n",
    "category = positive_reviews['Category']\n",
    "calculate_cosine_similarity(liked, category)"
   ]
  },
  {
   "cell_type": "code",
   "execution_count": 38,
   "id": "d05deb2e",
   "metadata": {},
   "outputs": [
    {
     "name": "stderr",
     "output_type": "stream",
     "text": [
      "/tmp/ipykernel_7322/1723471478.py:2: RuntimeWarning: invalid value encountered in double_scalars\n",
      "  cosine = np.dot(liked, category) / (norm(liked) * norm(category))\n"
     ]
    },
    {
     "data": {
      "text/plain": [
       "nan"
      ]
     },
     "execution_count": 38,
     "metadata": {},
     "output_type": "execute_result"
    }
   ],
   "source": [
    "negative_reviews = reviews.loc[reviews['Liked'] == 0]\n",
    "liked = negative_reviews['Liked']\n",
    "category = negative_reviews['Category']\n",
    "calculate_cosine_similarity(liked, category)"
   ]
  },
  {
   "cell_type": "markdown",
   "id": "c47344ba",
   "metadata": {},
   "source": [
    "Calculating cosine similarity with sentistrength classified reviews"
   ]
  },
  {
   "cell_type": "code",
   "execution_count": 39,
   "id": "5737a4fa",
   "metadata": {},
   "outputs": [],
   "source": [
    "reviews = pd.read_csv(\"data/derived/restaurant_reviews_sentistrength.csv\", sep=\"\\t\")"
   ]
  },
  {
   "cell_type": "code",
   "execution_count": 40,
   "id": "d41f43c8",
   "metadata": {},
   "outputs": [
    {
     "data": {
      "text/plain": [
       "0.7736605769718724"
      ]
     },
     "execution_count": 40,
     "metadata": {},
     "output_type": "execute_result"
    }
   ],
   "source": [
    "liked, category = reviews['Liked'], reviews['Category']\n",
    "calculate_cosine_similarity(liked, category)"
   ]
  },
  {
   "cell_type": "code",
   "execution_count": 41,
   "id": "254a5257",
   "metadata": {},
   "outputs": [
    {
     "data": {
      "text/plain": [
       "0.9889388252060891"
      ]
     },
     "execution_count": 41,
     "metadata": {},
     "output_type": "execute_result"
    }
   ],
   "source": [
    "positive_reviews = reviews.loc[reviews['Liked'] == 1]\n",
    "liked = positive_reviews['Liked']\n",
    "category = positive_reviews['Category']\n",
    "calculate_cosine_similarity(liked, category)"
   ]
  }
 ],
 "metadata": {
  "kernelspec": {
   "display_name": "Python 3 (ipykernel)",
   "language": "python",
   "name": "python3"
  },
  "language_info": {
   "codemirror_mode": {
    "name": "ipython",
    "version": 3
   },
   "file_extension": ".py",
   "mimetype": "text/x-python",
   "name": "python",
   "nbconvert_exporter": "python",
   "pygments_lexer": "ipython3",
   "version": "3.8.13"
  }
 },
 "nbformat": 4,
 "nbformat_minor": 5
}
