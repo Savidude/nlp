{
 "cells": [
  {
   "cell_type": "code",
   "execution_count": 10,
   "id": "d1caa311",
   "metadata": {},
   "outputs": [],
   "source": [
    "import pandas as pd\n",
    "from scipy.stats import pearsonr\n",
    "from numpy.linalg import norm\n",
    "import numpy as np"
   ]
  },
  {
   "cell_type": "code",
   "execution_count": 2,
   "id": "20009eb9",
   "metadata": {},
   "outputs": [],
   "source": [
    "def get_review_length(review):\n",
    "    return len(review)"
   ]
  },
  {
   "cell_type": "code",
   "execution_count": 3,
   "id": "4d99d674",
   "metadata": {},
   "outputs": [],
   "source": [
    "def calculate_pearson_correlation(annotations, length):    \n",
    "    corr, _ = pearsonr(annotations, length)\n",
    "    return corr"
   ]
  },
  {
   "cell_type": "code",
   "execution_count": 4,
   "id": "7a4a5694",
   "metadata": {},
   "outputs": [],
   "source": [
    "def calculate_cosine_similarity(annotations, length):\n",
    "    cosine = np.dot(annotations, length) / (norm(annotations) * norm(length))\n",
    "    return cosine"
   ]
  },
  {
   "cell_type": "code",
   "execution_count": 12,
   "id": "d3b6ff78",
   "metadata": {},
   "outputs": [],
   "source": [
    "def print_correlation_values(annotations, length):\n",
    "    pearson_correlation = calculate_pearson_correlation(annotations, length)\n",
    "    print(\"Pearson Correlation: \", pearson_correlation)\n",
    "\n",
    "    cosine_similarity = calculate_cosine_similarity(annotations, length)\n",
    "    print(\"Cosine similarity: \", cosine_similarity)"
   ]
  },
  {
   "cell_type": "code",
   "execution_count": 5,
   "id": "a0fae364",
   "metadata": {},
   "outputs": [],
   "source": [
    "reviews = pd.read_csv(\"data/derived/restaurant_reviews_textblob.csv\", sep=\"\\t\")"
   ]
  },
  {
   "cell_type": "markdown",
   "id": "393511ba",
   "metadata": {},
   "source": [
    "Calculating similarities between the actual labels and review length"
   ]
  },
  {
   "cell_type": "code",
   "execution_count": 13,
   "id": "d7a62740",
   "metadata": {},
   "outputs": [
    {
     "name": "stdout",
     "output_type": "stream",
     "text": [
      "Pearson Correlation:  -0.07528475029141281\n",
      "Cosine similarity:  0.5925422336203817\n"
     ]
    }
   ],
   "source": [
    "print_correlation_values(reviews['Liked'], reviews['Length'])"
   ]
  },
  {
   "cell_type": "markdown",
   "id": "1c783921",
   "metadata": {},
   "source": [
    "Calculating similarities between Textblob classified categories and review length"
   ]
  },
  {
   "cell_type": "code",
   "execution_count": 6,
   "id": "df5a4419",
   "metadata": {},
   "outputs": [
    {
     "data": {
      "text/html": [
       "<div>\n",
       "<style scoped>\n",
       "    .dataframe tbody tr th:only-of-type {\n",
       "        vertical-align: middle;\n",
       "    }\n",
       "\n",
       "    .dataframe tbody tr th {\n",
       "        vertical-align: top;\n",
       "    }\n",
       "\n",
       "    .dataframe thead th {\n",
       "        text-align: right;\n",
       "    }\n",
       "</style>\n",
       "<table border=\"1\" class=\"dataframe\">\n",
       "  <thead>\n",
       "    <tr style=\"text-align: right;\">\n",
       "      <th></th>\n",
       "      <th>Review</th>\n",
       "      <th>Liked</th>\n",
       "      <th>Category</th>\n",
       "      <th>Length</th>\n",
       "    </tr>\n",
       "  </thead>\n",
       "  <tbody>\n",
       "    <tr>\n",
       "      <th>0</th>\n",
       "      <td>Wow... Loved this place.</td>\n",
       "      <td>1</td>\n",
       "      <td>1</td>\n",
       "      <td>24</td>\n",
       "    </tr>\n",
       "    <tr>\n",
       "      <th>1</th>\n",
       "      <td>Crust is not good.</td>\n",
       "      <td>0</td>\n",
       "      <td>1</td>\n",
       "      <td>18</td>\n",
       "    </tr>\n",
       "    <tr>\n",
       "      <th>2</th>\n",
       "      <td>Not tasty and the texture was just nasty.</td>\n",
       "      <td>0</td>\n",
       "      <td>1</td>\n",
       "      <td>41</td>\n",
       "    </tr>\n",
       "    <tr>\n",
       "      <th>3</th>\n",
       "      <td>Stopped by during the late May bank holiday of...</td>\n",
       "      <td>1</td>\n",
       "      <td>0</td>\n",
       "      <td>87</td>\n",
       "    </tr>\n",
       "    <tr>\n",
       "      <th>4</th>\n",
       "      <td>The selection on the menu was great and so wer...</td>\n",
       "      <td>1</td>\n",
       "      <td>1</td>\n",
       "      <td>59</td>\n",
       "    </tr>\n",
       "  </tbody>\n",
       "</table>\n",
       "</div>"
      ],
      "text/plain": [
       "                                              Review  Liked  Category  Length\n",
       "0                           Wow... Loved this place.      1         1      24\n",
       "1                                 Crust is not good.      0         1      18\n",
       "2          Not tasty and the texture was just nasty.      0         1      41\n",
       "3  Stopped by during the late May bank holiday of...      1         0      87\n",
       "4  The selection on the menu was great and so wer...      1         1      59"
      ]
     },
     "execution_count": 6,
     "metadata": {},
     "output_type": "execute_result"
    }
   ],
   "source": [
    "reviews['Length'] = reviews.apply(lambda row: get_review_length(row['Review']), axis=1)\n",
    "reviews.head()"
   ]
  },
  {
   "cell_type": "code",
   "execution_count": 14,
   "id": "59ec0bde",
   "metadata": {},
   "outputs": [
    {
     "name": "stdout",
     "output_type": "stream",
     "text": [
      "Pearson Correlation:  0.021483617077331197\n",
      "Cosine similarity:  0.6966413771021479\n"
     ]
    }
   ],
   "source": [
    "print_correlation_values(reviews['Category'], reviews['Length'])"
   ]
  },
  {
   "cell_type": "markdown",
   "id": "e849371e",
   "metadata": {},
   "source": [
    "Calculating similarities between Sentistrength classified categories and review length"
   ]
  },
  {
   "cell_type": "code",
   "execution_count": 16,
   "id": "22274e53",
   "metadata": {},
   "outputs": [
    {
     "data": {
      "text/html": [
       "<div>\n",
       "<style scoped>\n",
       "    .dataframe tbody tr th:only-of-type {\n",
       "        vertical-align: middle;\n",
       "    }\n",
       "\n",
       "    .dataframe tbody tr th {\n",
       "        vertical-align: top;\n",
       "    }\n",
       "\n",
       "    .dataframe thead th {\n",
       "        text-align: right;\n",
       "    }\n",
       "</style>\n",
       "<table border=\"1\" class=\"dataframe\">\n",
       "  <thead>\n",
       "    <tr style=\"text-align: right;\">\n",
       "      <th></th>\n",
       "      <th>Review</th>\n",
       "      <th>Liked</th>\n",
       "      <th>Category</th>\n",
       "      <th>Length</th>\n",
       "    </tr>\n",
       "  </thead>\n",
       "  <tbody>\n",
       "    <tr>\n",
       "      <th>0</th>\n",
       "      <td>Wow... Loved this place.</td>\n",
       "      <td>1</td>\n",
       "      <td>1</td>\n",
       "      <td>24</td>\n",
       "    </tr>\n",
       "    <tr>\n",
       "      <th>1</th>\n",
       "      <td>Crust is not good.</td>\n",
       "      <td>0</td>\n",
       "      <td>1</td>\n",
       "      <td>18</td>\n",
       "    </tr>\n",
       "    <tr>\n",
       "      <th>2</th>\n",
       "      <td>Not tasty and the texture was just nasty.</td>\n",
       "      <td>0</td>\n",
       "      <td>0</td>\n",
       "      <td>41</td>\n",
       "    </tr>\n",
       "    <tr>\n",
       "      <th>3</th>\n",
       "      <td>Stopped by during the late May bank holiday of...</td>\n",
       "      <td>1</td>\n",
       "      <td>1</td>\n",
       "      <td>87</td>\n",
       "    </tr>\n",
       "    <tr>\n",
       "      <th>4</th>\n",
       "      <td>The selection on the menu was great and so wer...</td>\n",
       "      <td>1</td>\n",
       "      <td>1</td>\n",
       "      <td>59</td>\n",
       "    </tr>\n",
       "  </tbody>\n",
       "</table>\n",
       "</div>"
      ],
      "text/plain": [
       "                                              Review  Liked  Category  Length\n",
       "0                           Wow... Loved this place.      1         1      24\n",
       "1                                 Crust is not good.      0         1      18\n",
       "2          Not tasty and the texture was just nasty.      0         0      41\n",
       "3  Stopped by during the late May bank holiday of...      1         1      87\n",
       "4  The selection on the menu was great and so wer...      1         1      59"
      ]
     },
     "execution_count": 16,
     "metadata": {},
     "output_type": "execute_result"
    }
   ],
   "source": [
    "reviews = pd.read_csv(\"data/derived/restaurant_reviews_sentistrength.csv\", sep=\"\\t\")\n",
    "reviews['Length'] = reviews.apply(lambda row: get_review_length(row['Review']), axis=1)\n",
    "reviews.head()"
   ]
  },
  {
   "cell_type": "code",
   "execution_count": 17,
   "id": "61cb690c",
   "metadata": {},
   "outputs": [
    {
     "name": "stdout",
     "output_type": "stream",
     "text": [
      "Pearson Correlation:  -0.017334475687109878\n",
      "Cosine similarity:  0.7779151883584928\n"
     ]
    }
   ],
   "source": [
    "print_correlation_values(reviews['Category'], reviews['Length'])"
   ]
  }
 ],
 "metadata": {
  "kernelspec": {
   "display_name": "Python 3 (ipykernel)",
   "language": "python",
   "name": "python3"
  },
  "language_info": {
   "codemirror_mode": {
    "name": "ipython",
    "version": 3
   },
   "file_extension": ".py",
   "mimetype": "text/x-python",
   "name": "python",
   "nbconvert_exporter": "python",
   "pygments_lexer": "ipython3",
   "version": "3.8.13"
  }
 },
 "nbformat": 4,
 "nbformat_minor": 5
}
